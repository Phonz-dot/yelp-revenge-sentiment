{
 "cells": [
  {
   "cell_type": "code",
   "execution_count": 13,
   "id": "52d24c56",
   "metadata": {},
   "outputs": [],
   "source": [
    "from src.config import Config\n",
    "from src.data.sample_and_save import create_balanced_sample, save_to_json"
   ]
  },
  {
   "cell_type": "code",
   "execution_count": 14,
   "id": "bbbeb283",
   "metadata": {},
   "outputs": [
    {
     "name": "stderr",
     "output_type": "stream",
     "text": [
      "INFO:src.data.sample_and_save:Creating balanced sample of 50,000 reviews...\n",
      "INFO:src.data.sample_and_save:Saving 50,000 records to c:\\Users\\ahouston3420\\Documents\\yelp-revenge-sentiment\\data\\processed\\sampled_reviews.json\n",
      "INFO:src.data.sample_and_save:File saved successfully. Size: 39.06 MB\n"
     ]
    },
    {
     "data": {
      "text/plain": [
       "WindowsPath('c:/Users/ahouston3420/Documents/yelp-revenge-sentiment/data/processed/sampled_reviews.json')"
      ]
     },
     "execution_count": 14,
     "metadata": {},
     "output_type": "execute_result"
    }
   ],
   "source": [
    "save_to_json(create_balanced_sample(Config.RAW_DATA_PATH/'yelp_dataset'/'yelp_academic_dataset_review.json'))"
   ]
  }
 ],
 "metadata": {
  "kernelspec": {
   "display_name": "venv",
   "language": "python",
   "name": "python3"
  },
  "language_info": {
   "codemirror_mode": {
    "name": "ipython",
    "version": 3
   },
   "file_extension": ".py",
   "mimetype": "text/x-python",
   "name": "python",
   "nbconvert_exporter": "python",
   "pygments_lexer": "ipython3",
   "version": "3.12.10"
  }
 },
 "nbformat": 4,
 "nbformat_minor": 5
}
